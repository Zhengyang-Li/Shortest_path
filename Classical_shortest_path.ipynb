{
 "cells": [
  {
   "cell_type": "markdown",
   "metadata": {},
   "source": [
    "# Shortest path algorithms\n",
    "Shortest path is the core of operations research.\n",
    "The shortest path algorithms can be devided into many categories, such as:\n",
    "1. Single objective VS multiobjective\n",
    "2. Deterministic VS stochastic\n",
    "3. Addtive VS nonadditive\n",
    "4. Nonconstrained VS constrained\n",
    "5. Static VS time-dependent\\\n",
    "...\n",
    "\n",
    "I will try my best to cover all the categories and include some interesting variants.\n",
    "The structure of this document will be:\n",
    "1. Mathematical model.\n",
    "2. Data structure.\n",
    "3. Algorihtm.\n",
    "4. Data.\n",
    "5. Implementation."
   ]
  },
  {
   "cell_type": "markdown",
   "metadata": {},
   "source": [
    "## Single objective, deterministic, additive shortest path\n",
    "### Model\n",
    "\n",
    "<img src='images\\SP_model.jpg' width='600'>"
   ]
  },
  {
   "cell_type": "code",
   "execution_count": 5,
   "metadata": {},
   "outputs": [],
   "source": [
    "# Data Stucture\n",
    "class Node:\n",
    "    \"\"\"\n",
    "    This class has attributes associated with any node\n",
    "    \"\"\"\n",
    "    def __init__(self, Id):\n",
    "        self.Id = Id\n",
    "        self.outLinks = []\n",
    "        self.inLinks = []\n",
    "        '''Algorithm'''\n",
    "        self.label = float(\"inf\")\n",
    "        self.pred = \"\" # predecessor\n",
    "\n",
    "class Link:\n",
    "    \"\"\"\n",
    "    This class has attributes associated with any link\n",
    "    \"\"\"\n",
    "    def __init__(self, tail, head, cost):\n",
    "        self.tail = tail\n",
    "        self.head = head\n",
    "        self.cost = cost"
   ]
  },
  {
   "cell_type": "code",
   "execution_count": 19,
   "metadata": {},
   "outputs": [],
   "source": [
    "'Algorithm'\n",
    "import heapq\n",
    "def Dijkstra(nodeSet, linkSet, ori, des=None):\n",
    "    '''\n",
    "    Method: Dijkstra algorithm + binary heap\n",
    "    Input: ori, des(optional)\n",
    "    Return:\n",
    "        if des != None, output the path nodes(list) and the dist(float);\n",
    "        if des == None, output a path tree(dictionary of list) and the distances(dictionary of float), where key is the des.\n",
    "            e.g., path, dist = Dijkstra(1), then path[2] and dist[2] denote the path node and distance from node 1 to node 2.\n",
    "    '''\n",
    "    # initialization\n",
    "    for n in nodeSet:\n",
    "        nodeSet[n].label, nodeSet[n].pred = (float(\"inf\"), 'NA')\n",
    "    nodeSet[ori].label, pred = (0.0, 'NA')\n",
    "    # scan eligible list\n",
    "    SE = [(0, ori)]\n",
    "    # main loop\n",
    "    while SE:\n",
    "        currentNode = heapq.heappop(SE)[1]\n",
    "        currentLabel = nodeSet[currentNode].label\n",
    "        for l in nodeSet[currentNode].outLinks:\n",
    "            nextNode = l[1]\n",
    "            existingLabel = nodeSet[nextNode].label\n",
    "            newLabel = currentLabel + linkSet[l].cost\n",
    "            if newLabel < existingLabel:\n",
    "                # add new label to scan eligible list\n",
    "                heapq.heappush(SE, (newLabel, nextNode))\n",
    "                # update label\n",
    "                nodeSet[nextNode].label, nodeSet[nextNode].pred = (newLabel, currentNode)\n",
    "\n",
    "    if des != None:\n",
    "        path = tracePreds(des)\n",
    "        dist = nodeSet[des].label\n",
    "    else:\n",
    "        path = {}\n",
    "        dist = {}\n",
    "        for n in nodeSet:\n",
    "            path[n] = tracePreds(n)\n",
    "            dist[n] = nodeSet[n].label\n",
    "\n",
    "    return path, dist\n",
    "\n",
    "def tracePreds(des):\n",
    "    '''\n",
    "    This method traverses predecessor nodes in order to create a path.\n",
    "    '''\n",
    "    pathNodes = [des]\n",
    "    prevNode = nodeSet[des].pred\n",
    "    while nodeSet[des].pred != \"NA\":\n",
    "        pathNodes.append(prevNode)\n",
    "        des = prevNode\n",
    "        prevNode = nodeSet[des].pred\n",
    "    list.reverse(pathNodes)\n",
    "\n",
    "    return pathNodes"
   ]
  },
  {
   "cell_type": "markdown",
   "metadata": {},
   "source": [
    "### Data \n",
    "#### From textbook: Ehrgott, M. (2005). Multicriteria optimization (Vol. 491). Springer Science & Business Media.\n",
    "<img src=\"images/Textbook_network.jpg\" width=\"800\">\n",
    "Use the first number at each link as the link cost."
   ]
  },
  {
   "cell_type": "code",
   "execution_count": 20,
   "metadata": {},
   "outputs": [],
   "source": [
    "'Data'\n",
    "# tail, head, cost\n",
    "linkData = [\n",
    "    [1, 2, 10],\n",
    "    [1, 3, 6],\n",
    "    [2, 4, 0],\n",
    "    [3, 2, 6],\n",
    "    [3, 5, 1],\n",
    "    [4, 3, 4],\n",
    "    [4, 6, 10],\n",
    "    [5, 4, 5],\n",
    "    [5, 6, 6],\n",
    "]"
   ]
  },
  {
   "cell_type": "code",
   "execution_count": 28,
   "metadata": {},
   "outputs": [
    {
     "name": "stdout",
     "output_type": "stream",
     "text": [
      "6 nodes\n",
      "9 links\n",
      "Shortest path {1: [1], 2: [1, 2], 3: [1, 3], 4: [1, 2, 4], 5: [1, 3, 5], 6: [1, 3, 5, 6]}\n",
      "Cost {1: 0.0, 2: 10.0, 3: 6.0, 4: 10.0, 5: 7.0, 6: 13.0}\n"
     ]
    }
   ],
   "source": [
    "'Read data'\n",
    "nodeSet = {}\n",
    "linkSet = {}\n",
    "\n",
    "for l in linkData:\n",
    "    tail, head, cost = l\n",
    "    # link\n",
    "    linkSet[tail, head] = Link(tail, head, cost)\n",
    "    # node\n",
    "    if tail not in nodeSet:\n",
    "        nodeSet[tail] = Node(tail)\n",
    "    if head not in nodeSet:\n",
    "        nodeSet[head] = Node(head)\n",
    "    if (tail, head) not in nodeSet[tail].outLinks:\n",
    "        nodeSet[tail].outLinks.append((tail, head))\n",
    "    if (tail, head) not in nodeSet[head].inLinks:\n",
    "        nodeSet[head].inLinks.append((tail, head))\n",
    "\n",
    "print(len(nodeSet), \"nodes\")\n",
    "print(len(linkSet), \"links\")\n",
    "\n",
    "'Implementation'\n",
    "Ori = 1\n",
    "Des = 6\n",
    "path, dist = Dijkstra(nodeSet, linkSet, Ori, Des)\n",
    "print('Shortest path', path)\n",
    "print('Cost', dist)"
   ]
  },
  {
   "cell_type": "markdown",
   "metadata": {},
   "source": [
    "### What about the performance in big networks?\n",
    "#### Chicago Sketch network: 933 nodes, 2950 links\n",
    "<img src=\"images/Chicago_Sketch.png\" width=\"600\">"
   ]
  },
  {
   "cell_type": "code",
   "execution_count": 31,
   "metadata": {},
   "outputs": [
    {
     "name": "stdout",
     "output_type": "stream",
     "text": [
      "933 nodes\n",
      "2950 links\n",
      "Running time= 0.001531839370727539 sec.\n",
      "Shortest path [1, 547, 548, 552, 435, 554, 437, 438, 536, 537, 399, 398, 397, 396, 395, 600]\n",
      "Cost 37.15\n"
     ]
    }
   ],
   "source": [
    "# Chicago Sketch network\n",
    "\n",
    "import time\n",
    "\n",
    "netFile = 'network\\\\ChicagoSketch.csv'\n",
    "\n",
    "nodeSet = {}\n",
    "linkSet = {}\n",
    "\n",
    "inFile = open(netFile, 'r')\n",
    "next(inFile)  # skip the first title line\n",
    "for line in inFile:\n",
    "    # data\n",
    "    tmpIn = line.strip('\\n').split(',')\n",
    "    tail = int(tmpIn[0])\n",
    "    head = int(tmpIn[1])\n",
    "    cost = float(tmpIn[2])\n",
    "    # link\n",
    "    linkSet[tail, head] = Link(tail, head, cost)\n",
    "    # node\n",
    "    if tail not in nodeSet:\n",
    "        nodeSet[tail] = Node(tail)\n",
    "    if head not in nodeSet:\n",
    "        nodeSet[head] = Node(head)\n",
    "    if (tail, head) not in nodeSet[tail].outLinks:\n",
    "        nodeSet[tail].outLinks.append((tail, head))\n",
    "    if (tail, head) not in nodeSet[head].inLinks:\n",
    "        nodeSet[head].inLinks.append((tail, head))\n",
    "\n",
    "print(len(nodeSet), \"nodes\")\n",
    "print(len(linkSet), \"links\")\n",
    "\n",
    "'Implementation'\n",
    "Ori = 1\n",
    "Des = 600\n",
    "\n",
    "tic = time.time()\n",
    "path, dist = Dijkstra(nodeSet, linkSet, Ori, Des)\n",
    "print('Running time=', time.time()-tic, 'sec.')\n",
    "\n",
    "print('Shortest path', path)\n",
    "print('Cost', dist)"
   ]
  },
  {
   "cell_type": "markdown",
   "metadata": {},
   "source": [
    "#### Sydney network: 33113 nodes, 75379 links\n",
    "<img src=\"images/Sydney.jpg\" width=\"600\">"
   ]
  },
  {
   "cell_type": "code",
   "execution_count": 27,
   "metadata": {},
   "outputs": [
    {
     "name": "stdout",
     "output_type": "stream",
     "text": [
      "33113 nodes\n",
      "75379 links\n",
      "Running time= 0.07380223274230957 sec.\n",
      "Shortest path [1, 6706, 30965, 6705, 30966, 6710, 6711, 30106, 6716, 82, 6691, 29723, 29218, 30091, 30090, 6698, 30092, 29224, 29225, 30104, 6709, 6695, 8899, 6641, 6642, 6522, 33100, 6482, 6371, 6359, 6348, 6333, 6256, 16493, 6233, 7944, 6182, 6059, 6038, 6000]\n",
      "Cost 12.5\n"
     ]
    }
   ],
   "source": [
    "# Sydney network\n",
    "\n",
    "import time\n",
    "\n",
    "netFile = 'network\\\\Sydney.csv'\n",
    "\n",
    "nodeSet = {}\n",
    "linkSet = {}\n",
    "\n",
    "inFile = open(netFile, 'r')\n",
    "next(inFile)  # skip the first title line\n",
    "for line in inFile:\n",
    "    # data\n",
    "    tmpIn = line.strip('\\n').split(',')\n",
    "    tail = int(tmpIn[0])\n",
    "    head = int(tmpIn[1])\n",
    "    cost = float(tmpIn[2])\n",
    "    # link\n",
    "    linkSet[tail, head] = Link(tail, head, cost)\n",
    "    # node\n",
    "    if tail not in nodeSet:\n",
    "        nodeSet[tail] = Node(tail)\n",
    "    if head not in nodeSet:\n",
    "        nodeSet[head] = Node(head)\n",
    "    if (tail, head) not in nodeSet[tail].outLinks:\n",
    "        nodeSet[tail].outLinks.append((tail, head))\n",
    "    if (tail, head) not in nodeSet[head].inLinks:\n",
    "        nodeSet[head].inLinks.append((tail, head))\n",
    "\n",
    "print(len(nodeSet), \"nodes\")\n",
    "print(len(linkSet), \"links\")\n",
    "\n",
    "'Implementation'\n",
    "Ori = 1\n",
    "Des = 6000\n",
    "\n",
    "tic = time.time()\n",
    "path, dist = Dijkstra(nodeSet, linkSet, Ori, Des)\n",
    "print('Running time=', time.time()-tic, 'sec.')\n",
    "\n",
    "print('Shortest path', path)\n",
    "print('Cost', dist)"
   ]
  },
  {
   "cell_type": "markdown",
   "metadata": {},
   "source": [
    "### The classical shortest path problem can be solved very quickly. There are also other speed-up strategies, including but not limited to adopting Fibonacci heap, bucket operation, heuristic algorithm (e.g. A*)..."
   ]
  }
 ],
 "metadata": {
  "kernelspec": {
   "display_name": "Python 3",
   "language": "python",
   "name": "python3"
  },
  "language_info": {
   "codemirror_mode": {
    "name": "ipython",
    "version": 3
   },
   "file_extension": ".py",
   "mimetype": "text/x-python",
   "name": "python",
   "nbconvert_exporter": "python",
   "pygments_lexer": "ipython3",
   "version": "3.8.3"
  }
 },
 "nbformat": 4,
 "nbformat_minor": 4
}
